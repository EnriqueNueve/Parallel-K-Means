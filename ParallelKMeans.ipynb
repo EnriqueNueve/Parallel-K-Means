{
 "cells": [
  {
   "cell_type": "markdown",
   "metadata": {
    "nteract": {
     "transient": {
      "deleting": false
     }
    }
   },
   "source": [
    "# K Means with Multiprocessing"
   ]
  },
  {
   "cell_type": "code",
   "execution_count": 1,
   "metadata": {
    "execution": {
     "iopub.execute_input": "2020-03-14T03:51:12.919Z",
     "iopub.status.busy": "2020-03-14T03:51:12.901Z",
     "iopub.status.idle": "2020-03-14T03:51:13.681Z",
     "shell.execute_reply": "2020-03-14T03:51:13.729Z"
    },
    "jupyter": {
     "outputs_hidden": false,
     "source_hidden": false
    },
    "nteract": {
     "transient": {
      "deleting": false
     }
    }
   },
   "outputs": [],
   "source": [
    "#import libraries\n",
    "import time\n",
    "from tqdm import trange\n",
    "import pandas as pd\n",
    "import numpy as np\n",
    "import random as rd\n",
    "from itertools import repeat,chain\n",
    "import multiprocessing as mp\n",
    "import matplotlib.pyplot as plt"
   ]
  },
  {
   "cell_type": "code",
   "execution_count": 2,
   "metadata": {
    "execution": {
     "iopub.execute_input": "2020-03-14T03:51:13.692Z",
     "iopub.status.busy": "2020-03-14T03:51:13.687Z",
     "iopub.status.idle": "2020-03-14T03:51:13.707Z",
     "shell.execute_reply": "2020-03-14T03:51:13.731Z"
    },
    "jupyter": {
     "outputs_hidden": false,
     "source_hidden": false
    },
    "nteract": {
     "transient": {
      "deleting": false
     }
    }
   },
   "outputs": [
    {
     "name": "stdout",
     "output_type": "stream",
     "text": [
      "(381, 13)\n",
      "    Loan_ID Gender Married Dependents     Education Self_Employed  \\\n",
      "0  LP001003   Male     Yes          1      Graduate            No   \n",
      "1  LP001005   Male     Yes          0      Graduate           Yes   \n",
      "2  LP001006   Male     Yes          0  Not Graduate            No   \n",
      "3  LP001008   Male      No          0      Graduate            No   \n",
      "4  LP001013   Male     Yes          0  Not Graduate            No   \n",
      "\n",
      "   ApplicantIncome  CoapplicantIncome  LoanAmount  Loan_Amount_Term  \\\n",
      "0             4583             1508.0       128.0             360.0   \n",
      "1             3000                0.0        66.0             360.0   \n",
      "2             2583             2358.0       120.0             360.0   \n",
      "3             6000                0.0       141.0             360.0   \n",
      "4             2333             1516.0        95.0             360.0   \n",
      "\n",
      "   Credit_History Property_Area Loan_Status  \n",
      "0             1.0         Rural           N  \n",
      "1             1.0         Urban           Y  \n",
      "2             1.0         Urban           Y  \n",
      "3             1.0         Urban           Y  \n",
      "4             1.0         Urban           Y  \n"
     ]
    }
   ],
   "source": [
    "path = \"/Users/rick/Desktop/Code_Dojo/GithubPortfolio/GitHubKMeans/\"\n",
    "data = pd.read_csv(path+'clustering.csv')\n",
    "print(data.shape)\n",
    "print(data.head())"
   ]
  },
  {
   "cell_type": "markdown",
   "metadata": {
    "nteract": {
     "transient": {
      "deleting": false
     }
    }
   },
   "source": [
    "## K Means "
   ]
  },
  {
   "cell_type": "code",
   "execution_count": 3,
   "metadata": {
    "execution": {
     "iopub.execute_input": "2020-03-14T03:51:13.719Z",
     "iopub.status.busy": "2020-03-14T03:51:13.714Z",
     "iopub.status.idle": "2020-03-14T03:51:13.724Z",
     "shell.execute_reply": "2020-03-14T03:51:13.733Z"
    },
    "jupyter": {
     "outputs_hidden": false,
     "source_hidden": false
    },
    "nteract": {
     "transient": {
      "deleting": false
     }
    }
   },
   "outputs": [],
   "source": [
    "def Euclidean_Dist(x,y):\n",
    "    return np.sqrt(np.sum(np.power((x-y),2)))\n",
    "\n",
    "\n",
    "def get_categories(X,K,Centroids,dist=\"Euclidean\"):\n",
    "    # Maintain copy of original data \n",
    "    X_clean = X\n",
    "    \n",
    "    # Select distance measure for clusters \n",
    "    dist_measures = {\"Euclidean\": Euclidean_Dist,}\n",
    "    \n",
    "    X_idx = list(range(X.shape[0]))\n",
    "    X_idx.sort()\n",
    "    \n",
    "    # Calculate distance between every point in X_fit and Centroids and place in categories \n",
    "    samples_categories = []\n",
    "    for i, index in enumerate(X_idx):\n",
    "        dist_values = []\n",
    "        for j,Centroid in enumerate(Centroids): \n",
    "            dist_values.append( [index,j, dist_measures[dist](Centroid,X_clean[index,:])]  ) \n",
    "        dists = [dist_values[k][2] for k,value in enumerate(dist_values)]   \n",
    "        index_min = dists.index(min(dists))           \n",
    "        samples_categories.append([index_min,index])      \n",
    "        \n",
    "    return samples_categories\n",
    "    \n",
    "    \n",
    "def KMeans(X,K,itter=1,dist=\"Euclidean\"):    \n",
    "    X_np = X.values\n",
    "\n",
    "    # Declare intial centroids\n",
    "    Centroids_idx = np.random.choice(range(X.shape[0]), K, replace=False)\n",
    "    Centroids = X_np[Centroids_idx,:]\n",
    "    \n",
    "    for a in range(itter):\n",
    "        categories = get_categories(X_np,K,Centroids,dist=\"Euclidean\")\n",
    "        groups = []\n",
    "        for i in range(K):\n",
    "            values = []\n",
    "            for l,value in enumerate(categories):\n",
    "                if value[0] == i: values.append(value[1])\n",
    "            if len(values) != 0:\n",
    "                groups.append(X.iloc[ values,:])\n",
    "            else: groups.append(\"group \"+str(i)+ \" is empty!\")  \n",
    "\n",
    "        new_centroids = []\n",
    "        for i, group in enumerate(groups):\n",
    "            group = group.values \n",
    "            new_centroids.append( np.mean(group,axis=0))    \n",
    "            \n",
    "        Centroids = new_centroids   \n",
    " \n",
    "    return groups, np.array(Centroids)  "
   ]
  },
  {
   "cell_type": "code",
   "execution_count": 4,
   "metadata": {
    "execution": {
     "iopub.execute_input": "2020-03-14T03:51:13.925Z",
     "iopub.status.busy": "2020-03-14T03:51:13.870Z",
     "iopub.status.idle": "2020-03-14T03:51:14.214Z",
     "shell.execute_reply": "2020-03-14T03:51:14.371Z"
    },
    "jupyter": {
     "outputs_hidden": false,
     "source_hidden": false
    },
    "nteract": {
     "transient": {
      "deleting": false
     }
    }
   },
   "outputs": [
    {
     "data": {
      "image/png": "[encoded data removed]",
      "text/plain": [
       "<Figure size 432x288 with 1 Axes>"
      ]
     },
     "metadata": {
      "needs_background": "light"
     },
     "output_type": "display_data"
    }
   ],
   "source": [
    "K=3  \n",
    "n_itter = 10\n",
    "\n",
    "X = data[[\"LoanAmount\",\"ApplicantIncome\"]]\n",
    "X_train = X[[\"ApplicantIncome\",\"LoanAmount\"]] \n",
    "\n",
    "groups,Centroids = KMeans(X_train,K,n_itter)\n",
    "    \n",
    "color=['blue','green','cyan']\n",
    "for i,group in enumerate(groups):\n",
    "    if isinstance(group, str) == False:\n",
    "         plt.scatter(group[\"ApplicantIncome\"],group[\"LoanAmount\"],c=color[i])\n",
    "          \n",
    "plt.scatter(Centroids[:,0],Centroids[:,1],c='red')\n",
    "plt.title(\"K Means with {} itterations\".format(n_itter))\n",
    "plt.xlabel('Income')\n",
    "plt.ylabel('Loan Amount (In Thousands)')\n",
    "plt.show()"
   ]
  },
  {
   "cell_type": "markdown",
   "metadata": {
    "nteract": {
     "transient": {
      "deleting": false
     }
    }
   },
   "source": [
    "## Let's time it!"
   ]
  },
  {
   "cell_type": "code",
   "execution_count": 5,
   "metadata": {
    "execution": {
     "iopub.execute_input": "2020-03-14T03:51:14.365Z",
     "iopub.status.busy": "2020-03-14T03:51:14.222Z",
     "iopub.status.idle": "2020-03-14T03:51:14.646Z",
     "shell.execute_reply": "2020-03-14T03:51:14.655Z"
    },
    "jupyter": {
     "outputs_hidden": false,
     "source_hidden": false
    },
    "nteract": {
     "transient": {
      "deleting": false
     }
    }
   },
   "outputs": [
    {
     "name": "stdout",
     "output_type": "stream",
     "text": [
      "Time to run KMeans:  0.359799861907959 seconds\n"
     ]
    }
   ],
   "source": [
    "K=3  \n",
    "X = data[[\"LoanAmount\",\"ApplicantIncome\"]]\n",
    "X_train = X[[\"ApplicantIncome\",\"LoanAmount\"]] \n",
    "\n",
    "t0 = time.time()\n",
    "KMeans(X_train,K,25)\n",
    "t1 = time.time()\n",
    "\n",
    "print(\"Time to run KMeans: \", t1-t0, \"seconds\")"
   ]
  },
  {
   "cell_type": "markdown",
   "metadata": {
    "nteract": {
     "transient": {
      "deleting": false
     }
    }
   },
   "source": [
    "## Now lets make this code fast!!!"
   ]
  },
  {
   "cell_type": "markdown",
   "metadata": {
    "nteract": {
     "transient": {
      "deleting": false
     }
    }
   },
   "source": [
    "### Multiprocessing"
   ]
  },
  {
   "cell_type": "code",
   "execution_count": 6,
   "metadata": {
    "execution": {
     "iopub.execute_input": "2020-03-14T03:51:14.674Z",
     "iopub.status.busy": "2020-03-14T03:51:14.651Z",
     "iopub.status.idle": "2020-03-14T03:51:14.679Z",
     "shell.execute_reply": "2020-03-14T03:51:14.669Z"
    },
    "jupyter": {
     "outputs_hidden": false,
     "source_hidden": false
    },
    "nteract": {
     "transient": {
      "deleting": false
     }
    }
   },
   "outputs": [],
   "source": [
    "def Euclidean_Dist(x,y):\n",
    "    return np.sqrt(np.sum(np.power((x-y),2)))\n",
    "\n",
    "\n",
    "def get_distance_centroid(X_idx,X_clean,dist_measures,Centroids):\n",
    "    samples_categories = []\n",
    "    for i, index in enumerate(X_idx):\n",
    "        dist_values = []\n",
    "        for j,Centroid in enumerate(Centroids): \n",
    "            dist_values.append( [index,j, dist_measures(Centroid,X_clean[index,:])]  ) \n",
    "        dists = [dist_values[k][2] for k,value in enumerate(dist_values)]   \n",
    "        index_min = dists.index(min(dists))           \n",
    "        samples_categories.append([index_min,index])     \n",
    "    return samples_categories\n",
    "\n",
    "\n",
    "def mp_get_categories(X,K,itter=1,dist=\"Euclidean\"):\n",
    "    # Maintain copy of original data \n",
    "    X_clean = X\n",
    "    \n",
    "    # Select distance measure for clusters \n",
    "    dist_measures = {\"Euclidean\": Euclidean_Dist,}\n",
    "    \n",
    "    X_idx = list(range(X.shape[0]))\n",
    "    X_idx.sort()\n",
    "    \n",
    "    X_fit_split = np.array_split(X_idx, min(mp.cpu_count(),K),axis=0)\n",
    "    X_idx_split = np.array_split(np.array(X_idx), min(mp.cpu_count(),K),axis=0)\n",
    "\n",
    "    # Calculate distance between every point in X_fit and Centroids and place in categories \n",
    "    pool = mp.Pool(min(mp.cpu_count(),K))\n",
    "    samples_categories = pool.starmap(get_distance_centroid,zip(X_idx_split\\\n",
    "                                    ,repeat(X_clean),repeat(dist_measures[dist]),\\\n",
    "                                    repeat(Centroids)))\n",
    "    samples_categories = list(chain(*samples_categories))\n",
    "    return samples_categories\n",
    "\n",
    "       \n",
    "def MP_KMeans(X,K,itter=1,dist=\"Euclidean\"):    \n",
    "    X_np = X.values\n",
    "\n",
    "    # Declare intial centroids\n",
    "    Centroids_idx = np.random.choice(range(X.shape[0]), K, replace=False)\n",
    "    Centroids = X_np[Centroids_idx,:]\n",
    "    \n",
    "    for a in range(itter):\n",
    "        categories = mp_get_categories(X_np,K,Centroids,dist=\"Euclidean\")\n",
    "        groups = []\n",
    "        for i in range(K):\n",
    "            values = []\n",
    "            for l,value in enumerate(categories):\n",
    "                if value[0] == i: values.append(value[1])\n",
    "            if len(values) != 0:\n",
    "                groups.append(X.iloc[ values,:])\n",
    "            else: groups.append(\"group \"+str(i)+ \" is empty!\")  \n",
    "\n",
    "        new_centroids = []\n",
    "        for i, group in enumerate(groups):\n",
    "            group = group.values \n",
    "            new_centroids.append( np.mean(group,axis=0))    \n",
    "            \n",
    "        Centroids = new_centroids   \n",
    " \n",
    "    return groups, np.array(Centroids)  "
   ]
  },
  {
   "cell_type": "code",
   "execution_count": 7,
   "metadata": {
    "execution": {
     "iopub.execute_input": "2020-03-14T03:51:14.822Z",
     "iopub.status.busy": "2020-03-14T03:51:14.818Z",
     "iopub.status.idle": "2020-03-14T03:51:15.391Z",
     "shell.execute_reply": "2020-03-14T03:51:15.401Z"
    },
    "jupyter": {
     "outputs_hidden": false,
     "source_hidden": false
    },
    "nteract": {
     "transient": {
      "deleting": false
     }
    }
   },
   "outputs": [
    {
     "data": {
      "image/png": "[encoded data removed]",
      "text/plain": [
       "<Figure size 432x288 with 1 Axes>"
      ]
     },
     "metadata": {
      "needs_background": "light"
     },
     "output_type": "display_data"
    }
   ],
   "source": [
    "K=3  \n",
    "n_itter = 10\n",
    "\n",
    "X = data[[\"LoanAmount\",\"ApplicantIncome\"]]\n",
    "X_train = X[[\"ApplicantIncome\",\"LoanAmount\"]] \n",
    "\n",
    "groups,Centroids = MP_KMeans(X_train,K,n_itter)\n",
    "    \n",
    "color=['blue','green','cyan']\n",
    "for i,group in enumerate(groups):\n",
    "    if isinstance(group, str) == False:\n",
    "         plt.scatter(group[\"ApplicantIncome\"],group[\"LoanAmount\"],c=color[i])\n",
    "          \n",
    "plt.scatter(Centroids[:,0],Centroids[:,1],c='red')\n",
    "plt.title(\"MP K Means with {} itterations\".format(n_itter))\n",
    "plt.xlabel('Income')\n",
    "plt.ylabel('Loan Amount (In Thousands)')\n",
    "plt.show()"
   ]
  },
  {
   "cell_type": "markdown",
   "metadata": {},
   "source": [
    "## Let's time it!"
   ]
  },
  {
   "cell_type": "code",
   "execution_count": 8,
   "metadata": {
    "execution": {
     "iopub.execute_input": "2020-03-14T03:51:15.513Z",
     "iopub.status.busy": "2020-03-14T03:51:15.508Z",
     "iopub.status.idle": "2020-03-14T03:51:16.540Z",
     "shell.execute_reply": "2020-03-14T03:51:16.549Z"
    },
    "jupyter": {
     "outputs_hidden": false,
     "source_hidden": false
    },
    "nteract": {
     "transient": {
      "deleting": false
     }
    }
   },
   "outputs": [
    {
     "name": "stdout",
     "output_type": "stream",
     "text": [
      "Time to run KMeans with multiprocessing:  0.9267499446868896 seconds\n"
     ]
    }
   ],
   "source": [
    "K=3  \n",
    "X = data[[\"LoanAmount\",\"ApplicantIncome\"]]\n",
    "X_train = X[[\"ApplicantIncome\",\"LoanAmount\"]] \n",
    "\n",
    "t0 = time.time()\n",
    "MP_KMeans(X_train,K,25)\n",
    "t1 = time.time()\n",
    "\n",
    "print(\"Time to run KMeans with multiprocessing: \", (t1-t0), \"seconds\")"
   ]
  }
 ],
 "metadata": {
  "kernel_info": {
   "name": "python3"
  },
  "kernelspec": {
   "display_name": "Python 3",
   "language": "python",
   "name": "python3"
  },
  "language_info": {
   "codemirror_mode": {
    "name": "ipython",
    "version": 3
   },
   "file_extension": ".py",
   "mimetype": "text/x-python",
   "name": "python",
   "nbconvert_exporter": "python",
   "pygments_lexer": "ipython3",
   "version": "3.7.3"
  },
  "nteract": {
   "version": "0.22.0"
  }
 },
 "nbformat": 4,
 "nbformat_minor": 1
}
